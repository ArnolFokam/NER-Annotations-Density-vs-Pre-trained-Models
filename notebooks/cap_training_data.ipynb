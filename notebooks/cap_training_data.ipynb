{
 "cells": [
  {
   "cell_type": "markdown",
   "id": "93da190e",
   "metadata": {},
   "source": [
    "# Cap Training Data"
   ]
  },
  {
   "cell_type": "markdown",
   "id": "8b9b510e",
   "metadata": {},
   "source": [
    "This notebook is responsible for constructing corpus with respect to *Entity Label Cap*."
   ]
  },
  {
   "cell_type": "code",
   "execution_count": 1,
   "id": "da8b522b",
   "metadata": {},
   "outputs": [
    {
     "name": "stdout",
     "output_type": "stream",
     "text": [
      "Requirement already satisfied: seaborn in /opt/conda/lib/python3.8/site-packages (0.11.2)\n",
      "Requirement already satisfied: scipy>=1.0 in /opt/conda/lib/python3.8/site-packages (from seaborn) (1.6.3)\n",
      "Requirement already satisfied: matplotlib>=2.2 in /opt/conda/lib/python3.8/site-packages (from seaborn) (3.4.3)\n",
      "Requirement already satisfied: numpy>=1.15 in /opt/conda/lib/python3.8/site-packages (from seaborn) (1.21.2)\n",
      "Requirement already satisfied: pandas>=0.23 in /opt/conda/lib/python3.8/site-packages (from seaborn) (1.3.4)\n",
      "Requirement already satisfied: python-dateutil>=2.7 in /opt/conda/lib/python3.8/site-packages (from matplotlib>=2.2->seaborn) (2.8.2)\n",
      "Requirement already satisfied: pillow>=6.2.0 in /opt/conda/lib/python3.8/site-packages (from matplotlib>=2.2->seaborn) (8.2.0)\n",
      "Requirement already satisfied: kiwisolver>=1.0.1 in /opt/conda/lib/python3.8/site-packages (from matplotlib>=2.2->seaborn) (1.3.2)\n",
      "Requirement already satisfied: cycler>=0.10 in /opt/conda/lib/python3.8/site-packages (from matplotlib>=2.2->seaborn) (0.10.0)\n",
      "Requirement already satisfied: pyparsing>=2.2.1 in /opt/conda/lib/python3.8/site-packages (from matplotlib>=2.2->seaborn) (2.4.7)\n",
      "Requirement already satisfied: six in /opt/conda/lib/python3.8/site-packages (from cycler>=0.10->matplotlib>=2.2->seaborn) (1.16.0)\n",
      "Requirement already satisfied: pytz>=2017.3 in /opt/conda/lib/python3.8/site-packages (from pandas>=0.23->seaborn) (2021.1)\n",
      "\u001b[33mWARNING: Running pip as the 'root' user can result in broken permissions and conflicting behaviour with the system package manager. It is recommended to use a virtual environment instead: https://pip.pypa.io/warnings/venv\u001b[0m\n"
     ]
    }
   ],
   "source": [
    "!pip install seaborn"
   ]
  },
  {
   "cell_type": "markdown",
   "id": "8e0cfe70",
   "metadata": {},
   "source": [
    "## Import"
   ]
  },
  {
   "cell_type": "code",
   "execution_count": 2,
   "id": "2f95c5e1",
   "metadata": {},
   "outputs": [],
   "source": [
    "import os\n",
    "import numpy as np\n",
    "import seaborn as sns\n",
    "sns.set_theme(style=\"whitegrid\")"
   ]
  },
  {
   "cell_type": "markdown",
   "id": "9d264a02",
   "metadata": {},
   "source": [
    "## Utils function"
   ]
  },
  {
   "cell_type": "markdown",
   "id": "6473a839",
   "metadata": {},
   "source": [
    "### Sequence model\n",
    "\n",
    "This is the class used to represent a sequence in the NER corpus. \n",
    "\n",
    "credits: https://github.com/masakhane-io/masakhane-ner"
   ]
  },
  {
   "cell_type": "code",
   "execution_count": 3,
   "id": "b0124c92",
   "metadata": {},
   "outputs": [],
   "source": [
    "class InputExample(object):\n",
    "    \"\"\"A single training/test example for token classification.\"\"\"\n",
    "\n",
    "    def __init__(self, guid, words, labels):\n",
    "        \"\"\"Constructs a InputExample.\n",
    "        Args:\n",
    "            guid: Unique id for the example.\n",
    "            words: list. The words of the sequence.\n",
    "            labels: (Optional) list. The labels for each word of the sequence. This should be\n",
    "            specified for train and dev examples, but not for test examples.\n",
    "        \"\"\"\n",
    "        self.guid = guid\n",
    "        self.words = words\n",
    "        self.labels = labels"
   ]
  },
  {
   "cell_type": "markdown",
   "id": "4009ff1a",
   "metadata": {},
   "source": [
    "## Load dataset function\n",
    "\n",
    "This function loads the dataset from text files into an InputExample object.\n",
    "\n",
    "credits: https://github.com/masakhane-io/masakhane-ner"
   ]
  },
  {
   "cell_type": "code",
   "execution_count": 4,
   "id": "185af0f2",
   "metadata": {},
   "outputs": [],
   "source": [
    "def read_examples_from_file(data_dir, mode):\n",
    "    file_path = os.path.join(data_dir, \"{}.txt\".format(mode))\n",
    "    guid_index = 1\n",
    "    examples = []\n",
    "    with open(file_path, encoding=\"utf-8\") as f:\n",
    "        words = []\n",
    "        labels = []\n",
    "        for line in f:\n",
    "            line = line.strip()\n",
    "            if len(line) < 2  or line == \"\\n\":\n",
    "                # print(line, words)\n",
    "                if words:\n",
    "                    examples.append(InputExample(guid=\"{}-{}\".format(mode, guid_index), words=words, labels=labels))\n",
    "                    guid_index += 1\n",
    "                    words = []\n",
    "                    labels = []\n",
    "            else:\n",
    "                splits = line.split(\" \")\n",
    "                words.append(splits[0])\n",
    "                if len(splits) > 1:\n",
    "                    labels.append(splits[-1].replace(\"\\n\", \"\"))\n",
    "                else:\n",
    "                    # Examples could have no label for mode = \"test\"\n",
    "                    labels.append(\"O\")\n",
    "        if words:\n",
    "            examples.append(InputExample(guid=\"{}-{}\".format(mode, guid_index), words=words, labels=labels))\n",
    "    return examples"
   ]
  },
  {
   "cell_type": "markdown",
   "id": "90d688bb",
   "metadata": {},
   "source": [
    "## Get labels position\n",
    "\n",
    "This function return entity label position form a string of labels. \n",
    "\n",
    "Example: \n",
    "Input: ['O', 'B-PER', 'I-PER', 'O', 'B-ORG', 'O', 'O', 'O', 'B-ORG'] \n",
    "Data: [(1, 2), (4, 4), (8, 8)]"
   ]
  },
  {
   "cell_type": "code",
   "execution_count": 5,
   "id": "25fed72f",
   "metadata": {},
   "outputs": [],
   "source": [
    "def get_labels_position(labels):\n",
    "    label =  []\n",
    "    in_word = False\n",
    "    start_idx = -1\n",
    "\n",
    "    for i in range(len(labels)):\n",
    "        \n",
    "        if labels[i].startswith('B-'):\n",
    "            if in_word is True:\n",
    "                label.append((start_idx, i-1))\n",
    "                \n",
    "            in_word = True\n",
    "            start_idx = i\n",
    "            \n",
    "        elif labels[i] == 'O' and in_word == True:\n",
    "            label.append((start_idx, i - 1))\n",
    "            in_word = False\n",
    "            \n",
    "    return label\n",
    "\n",
    "def get_capped_labels(labels, labels_pos, cap):\n",
    "    import random\n",
    "    random.seed(42)\n",
    "\n",
    "    for (x, y) in random.sample(labels_pos, max(len(labels_pos) - cap, 0)):\n",
    "        labels[x:y + 1] = ['O' for _ in range(len(labels[x:y + 1]))]\n",
    "       \n",
    "    return labels"
   ]
  },
  {
   "cell_type": "markdown",
   "id": "54d3db86",
   "metadata": {},
   "source": [
    "## Get capped examples\n",
    "\n",
    "This function cut off surplus of labels for an established *Enitty Label Cap* value. If we see that the label of a particular sequence is greater that the the cap established, we cut off the surplus."
   ]
  },
  {
   "cell_type": "code",
   "execution_count": 6,
   "id": "90e5974e",
   "metadata": {},
   "outputs": [],
   "source": [
    "def get_capped_examples(X, cap):\n",
    "    n_examples = []\n",
    "    for ex in X:\n",
    "        labels_pos = get_labels_position(ex.labels.copy())\n",
    "        ex.labels = get_capped_labels(ex.labels.copy(), labels_pos, cap)\n",
    "        n_examples.append(ex)\n",
    "            \n",
    "    return n_examples"
   ]
  },
  {
   "cell_type": "markdown",
   "id": "0eb4eaeb",
   "metadata": {},
   "source": [
    "## Write modified examples\n",
    "\n",
    "This function use the previously defined functions to modify the dataset with respect to the *cap* established."
   ]
  },
  {
   "cell_type": "code",
   "execution_count": 7,
   "id": "fd5d3a28",
   "metadata": {},
   "outputs": [],
   "source": [
    "def write_modified_examples(data_dir, mode, X, cap):\n",
    "        \n",
    "    folder_path = os.path.join(data_dir, \"cap-{}\".format(cap))\n",
    "    if not os.path.exists(folder_path):\n",
    "        os.mkdir(folder_path)\n",
    "        \n",
    "    file_path =  os.path.join(folder_path, \"{}.txt\".format(mode))\n",
    "    \n",
    "    n_examples = get_capped_examples(X, cap)\n",
    "    \n",
    "    with open(file_path, \"w+\", encoding=\"utf-8\") as f:\n",
    "        for ex in n_examples:\n",
    "            for i in range(len(ex.labels)):\n",
    "                f.write(f\"{ex.words[i]} {ex.labels[i]}\\n\")\n",
    "            f.write(\"\\n\")\n",
    "            \n",
    "    f.close()"
   ]
  },
  {
   "cell_type": "markdown",
   "id": "dc9958da",
   "metadata": {},
   "source": [
    "## Modifying the corpus"
   ]
  },
  {
   "cell_type": "code",
   "execution_count": 9,
   "id": "a4617076",
   "metadata": {},
   "outputs": [],
   "source": [
    "from shutil import copyfile\n",
    "\n",
    "langs = [\"swa\", \"kin\", \"pcm\"]\n",
    "\n",
    "for lang in langs:\n",
    "    for cap in range(1, 11):\n",
    "        examples = read_examples_from_file(f'../data/{lang}', 'train')\n",
    "        write_modified_examples(f'../data/{lang}', 'train', examples, cap=cap)\n",
    "        copyfile(f'../data/{lang}/dev.txt', f'../data/{lang}/cap-{cap}/dev.txt')\n",
    "        copyfile(f'../data/{lang}/test.txt', f'../data/{lang}/cap-{cap}/test.txt')"
   ]
  },
  {
   "cell_type": "markdown",
   "id": "7f0b7546",
   "metadata": {},
   "source": [
    "## Modified Corpus Analytics"
   ]
  },
  {
   "cell_type": "markdown",
   "id": "915492bf",
   "metadata": {},
   "source": [
    "In this section, we get the statistics of the different language corpus. We particularly check the distributions of entity labels over the corpus."
   ]
  },
  {
   "cell_type": "code",
   "execution_count": 8,
   "id": "2721658c",
   "metadata": {},
   "outputs": [],
   "source": [
    "def get_label_density_statistics(X):\n",
    "    \n",
    "    n_labels = []\n",
    "    for ex in X:\n",
    "        n_labels.append(len(get_labels_position(ex.labels.copy())))\n",
    "        \n",
    "    return np.mean(n_labels), np.std(n_labels), max(set(n_labels), key=n_labels.count), *np.unique(n_labels, return_counts=True), n_labels"
   ]
  },
  {
   "cell_type": "code",
   "execution_count": 10,
   "id": "cc19b070",
   "metadata": {},
   "outputs": [],
   "source": [
    "data = []\n",
    "# mean, std, mode, x, y, n_labels = \n",
    "\n",
    "\n",
    "for lang in langs:\n",
    "    examples = read_examples_from_file(f'../data/{lang}/cap-10', 'train')\n",
    "    data.append(get_label_density_statistics(examples))\n",
    "    \n",
    "data = np.array(data, dtype=object)"
   ]
  },
  {
   "cell_type": "code",
   "execution_count": 11,
   "id": "5e6f8191",
   "metadata": {},
   "outputs": [
    {
     "data": {
      "image/png": "[encoded data removed]",
      "text/plain": [
       "<Figure size 432x288 with 1 Axes>"
      ]
     },
     "metadata": {},
     "output_type": "display_data"
    }
   ],
   "source": [
    "import matplotlib.pyplot as plt\n",
    "\n",
    "\n",
    "for i in range(len(langs)):\n",
    "    plt.plot(data[i, 3], data[i, 4], label=langs[i])\n",
    "\n",
    "plt.legend()\n",
    "plt.ylabel('Frequency')\n",
    "plt.xlabel('entity labels per sentence')\n",
    "plt.savefig('../images/evlution.png')"
   ]
  },
  {
   "cell_type": "code",
   "execution_count": 12,
   "id": "bb104e43",
   "metadata": {},
   "outputs": [
    {
     "data": {
      "image/png": "[encoded data removed]",
      "text/plain": [
       "<Figure size 432x288 with 1 Axes>"
      ]
     },
     "metadata": {},
     "output_type": "display_data"
    }
   ],
   "source": [
    "import itertools\n",
    "\n",
    "sns.barplot(x=list(itertools.chain([langs[0]]*len(data[0, -1]), [langs[1]]*len(data[1, -1]), [langs[2]]*len(data[2, -1]))), \n",
    "            y=list(itertools.chain(data[0, -1], data[1, -1], data[2, -1])),\n",
    "            capsize=.1,\n",
    "           estimator=np.mean,\n",
    "           ci=\"sd\")\n",
    "\n",
    "plt.ylabel('Number of entity labels per sentence')\n",
    "plt.xlabel('Languages')\n",
    "plt.savefig('../images/dist_plot.png')"
   ]
  }
 ],
 "metadata": {
  "kernelspec": {
   "display_name": "Python 3 (ipykernel)",
   "language": "python",
   "name": "python3"
  },
  "language_info": {
   "codemirror_mode": {
    "name": "ipython",
    "version": 3
   },
   "file_extension": ".py",
   "mimetype": "text/x-python",
   "name": "python",
   "nbconvert_exporter": "python",
   "pygments_lexer": "ipython3",
   "version": "3.8.10"
  }
 },
 "nbformat": 4,
 "nbformat_minor": 5
}
